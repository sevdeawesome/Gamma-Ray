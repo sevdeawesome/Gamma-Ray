{
 cells: [
  {
   cell_type: code,
   execution_count: 1,
   metadata: {},
   outputs: [],
   source: [
    ## IMPORTS\n,
    import pandas as pd\n,
    import numpy as np\n,
    import matplotlib.pyplot as plt
   ]
  },
  {
   cell_type: code,
   execution_count: 2,
   metadata: {},
   outputs: [],
   source: [
    data = pd.read_csv(\track3/Mn54.csv\)
   ]
  },
  {
   cell_type: code,
   execution_count: 3,
   metadata: {},
   outputs: [
    {
     data: {
      text/html: [
       <div>\n,
       <style scoped>\n,
           .dataframe tbody tr th:only-of-type {\n,
               vertical-align: middle;\n,
           }\n,
       \n,
           .dataframe tbody tr th {\n,
               vertical-align: top;\n,
           }\n,
       \n,
           .dataframe thead th {\n,
               text-align: right;\n,
           }\n,
       </style>\n,
       <table border=\1\ class=\dataframe\>\n,
         <thead>\n,
           <tr style=\text-align: right;\>\n,
             <th></th>\n,
             <th>Channel</th>\n,
             <th>Energy</th>\n,
             <th>Counts</th>\n,
           </tr>\n,
         </thead>\n,
         <tbody>\n,
           <tr>\n,
             <th>0</th>\n,
             <td>1</td>\n,
             <td>-3.9162</td>\n,
             <td>0</td>\n,
           </tr>\n,
           <tr>\n,
             <th>1</th>\n,
             <td>2</td>\n,
             <td>-3.6975</td>\n,
             <td>0</td>\n,
           </tr>\n,
           <tr>\n,
             <th>2</th>\n,
             <td>3</td>\n,
             <td>-3.4788</td>\n,
             <td>1</td>\n,
           </tr>\n,
           <tr>\n,
             <th>3</th>\n,
             <td>4</td>\n,
             <td>-3.2600</td>\n,
             <td>2</td>\n,
           </tr>\n,
           <tr>\n,
             <th>4</th>\n,
             <td>5</td>\n,
             <td>-3.0413</td>\n,
             <td>0</td>\n,
           </tr>\n,
           <tr>\n,
             <th>...</th>\n,
             <td>...</td>\n,
             <td>...</td>\n,
             <td>...</td>\n,
           </tr>\n,
           <tr>\n,
             <th>8187</th>\n,
             <td>8188</td>\n,
             <td>1786.7102</td>\n,
             <td>0</td>\n,
           </tr>\n,
           <tr>\n,
             <th>8188</th>\n,
             <td>8189</td>\n,
             <td>1786.9289</td>\n,
             <td>0</td>\n,
           </tr>\n,
           <tr>\n,
             <th>8189</th>\n,
             <td>8190</td>\n,
             <td>1787.1476</td>\n,
             <td>0</td>\n,
           </tr>\n,
           <tr>\n,
             <th>8190</th>\n,
             <td>8191</td>\n,
             <td>1787.3663</td>\n,
             <td>0</td>\n,
           </tr>\n,
           <tr>\n,
             <th>8191</th>\n,
             <td>8192</td>\n,
             <td>1787.5851</td>\n,
             <td>0</td>\n,
           </tr>\n,
         </tbody>\n,
       </table>\n,
       <p>8192 rows × 3 columns</p>\n,
       </div>
      ],
      text/plain: [
             Channel     Energy  Counts\n,
       0           1    -3.9162       0\n,
       1           2    -3.6975       0\n,
       2           3    -3.4788       1\n,
       3           4    -3.2600       2\n,
       4           5    -3.0413       0\n,
       ...       ...        ...     ...\n,
       8187     8188  1786.7102       0\n,
       8188     8189  1786.9289       0\n,
       8189     8190  1787.1476       0\n,
       8190     8191  1787.3663       0\n,
       8191     8192  1787.5851       0\n,
       \n,
       [8192 rows x 3 columns]
      ]
     },
     execution_count: 3,
     metadata: {},
     output_type: execute_result
    }
   ],
   source: [
    data
   ]
  },
  {
   cell_type: code,
   execution_count: 4,
   metadata: {},
   outputs: [
    {
     data: {
      text/plain: [
       0          1\n,
       1          2\n,
       2          3\n,
       3          4\n,
       4          5\n,
               ... \n,
       8187    8188\n,
       8188    8189\n,
       8189    8190\n,
       8190    8191\n,
       8191    8192\n,
       Name: Channel, Length: 8192, dtype: int64
      ]
     },
     execution_count: 4,
     metadata: {},
     output_type: execute_result
    }
   ],
   source: [
    data[\Channel\]
   ]
  },
  {
   cell_type: code,
   execution_count: 5,
   metadata: {},
   outputs: [
    {
     data: {
      text/plain: [
       [<matplotlib.lines.Line2D at 0x1c1c5d01700>]
      ]
     },
     execution_count: 5,
     metadata: {},
     output_type: execute_result
    },
    {
     data: {
      image/png: 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,
      text/plain: [
       <Figure size 432x288 with 1 Axes>
      ]
     },
     metadata: {
      needs_background: light
     },
     output_type: display_data
    }
   ],
   source: [
    plt.plot(data[\Energy\],data[\Counts\] )
   ]
  },
  {
   cell_type: code,
   execution_count: 13,
   metadata: {},
   outputs: [
    {
     data: {
      text/plain: [
       Channel    305.000000\n,
       Energy      14.590175\n,
       Counts      10.773729\n,
       dtype: float64
      ]
     },
     execution_count: 13,
     metadata: {},
     output_type: execute_result
    }
   ],
   source: [
    variancedata = data.iloc[1240:1300,:]\n,
    variancedata.var()
   ]
  },
  {
   cell_type: code,
   execution_count: 12,
   metadata: {},
   outputs: [
    {
     data: {
      text/plain: [
       Channel    540.000000\n,
       Energy      25.831783\n,
       Counts      10.572152\n,
       dtype: float64
      ]
     },
     execution_count: 12,
     metadata: {},
     output_type: execute_result
    }
   ],
   source: [
    variancedata = data.iloc[1420:1500,:]\n,
    variancedata.var()
   ]
  },
  {
   cell_type: code,
   execution_count: null,
   metadata: {},
   outputs: [],
   source: []
  },
  {
   cell_type: code,
   execution_count: null,
   metadata: {},
   outputs: [],
   source: []
  },
  {
   cell_type: code,
   execution_count: null,
   metadata: {},
   outputs: [],
   source: []
  }
 ],
 metadata: {
  interpreter: {
   hash: f4722efe245817bfc3bb8a4fead8316a452afa2e58a94a6104a75f8476cbead1
  },
  kernelspec: {
   display_name: Python 3.9.7 ('base'),
   language: python,
   name: python3
  },
  language_info: {
   codemirror_mode: {
    name: ipython,
    version: 3
   },
   file_extension: .py,
   mimetype: text/x-python,
   name: python,
   nbconvert_exporter: python,
   pygments_lexer: ipython3,
   version: 3.9.7
  },
  orig_nbformat: 4
 },
 nbformat: 4,
 nbformat_minor: 2
}
