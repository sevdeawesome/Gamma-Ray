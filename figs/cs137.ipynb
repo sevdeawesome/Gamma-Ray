{
 cells: [
  {
   cell_type: code,
   execution_count: 4,
   metadata: {},
   outputs: [],
   source: [
    ## IMPORTS\n,
    import pandas as pd\n,
    import numpy as np\n,
    import matplotlib.pyplot as plt
   ]
  },
  {
   cell_type: code,
   execution_count: 28,
   metadata: {},
   outputs: [],
   source: [
    data = pd.read_csv(\track3/cs137.csv\)
   ]
  },
  {
   cell_type: code,
   execution_count: 29,
   metadata: {},
   outputs: [
    {
     data: {
      text/html: [
       <div>\n,
       <style scoped>\n,
           .dataframe tbody tr th:only-of-type {\n,
               vertical-align: middle;\n,
           }\n,
       \n,
           .dataframe tbody tr th {\n,
               vertical-align: top;\n,
           }\n,
       \n,
           .dataframe thead th {\n,
               text-align: right;\n,
           }\n,
       </style>\n,
       <table border=\1\ class=\dataframe\>\n,
         <thead>\n,
           <tr style=\text-align: right;\>\n,
             <th></th>\n,
             <th>Channel</th>\n,
             <th>Energy</th>\n,
             <th>Counts</th>\n,
           </tr>\n,
         </thead>\n,
         <tbody>\n,
           <tr>\n,
             <th>0</th>\n,
             <td>1</td>\n,
             <td>-3.9162</td>\n,
             <td>0</td>\n,
           </tr>\n,
           <tr>\n,
             <th>1</th>\n,
             <td>2</td>\n,
             <td>-3.6975</td>\n,
             <td>1</td>\n,
           </tr>\n,
           <tr>\n,
             <th>2</th>\n,
             <td>3</td>\n,
             <td>-3.4788</td>\n,
             <td>1</td>\n,
           </tr>\n,
           <tr>\n,
             <th>3</th>\n,
             <td>4</td>\n,
             <td>-3.2600</td>\n,
             <td>1</td>\n,
           </tr>\n,
           <tr>\n,
             <th>4</th>\n,
             <td>5</td>\n,
             <td>-3.0413</td>\n,
             <td>1</td>\n,
           </tr>\n,
           <tr>\n,
             <th>...</th>\n,
             <td>...</td>\n,
             <td>...</td>\n,
             <td>...</td>\n,
           </tr>\n,
           <tr>\n,
             <th>8187</th>\n,
             <td>8188</td>\n,
             <td>1786.7102</td>\n,
             <td>0</td>\n,
           </tr>\n,
           <tr>\n,
             <th>8188</th>\n,
             <td>8189</td>\n,
             <td>1786.9289</td>\n,
             <td>0</td>\n,
           </tr>\n,
           <tr>\n,
             <th>8189</th>\n,
             <td>8190</td>\n,
             <td>1787.1476</td>\n,
             <td>0</td>\n,
           </tr>\n,
           <tr>\n,
             <th>8190</th>\n,
             <td>8191</td>\n,
             <td>1787.3663</td>\n,
             <td>0</td>\n,
           </tr>\n,
           <tr>\n,
             <th>8191</th>\n,
             <td>8192</td>\n,
             <td>1787.5851</td>\n,
             <td>0</td>\n,
           </tr>\n,
         </tbody>\n,
       </table>\n,
       <p>8192 rows × 3 columns</p>\n,
       </div>
      ],
      text/plain: [
             Channel     Energy  Counts\n,
       0           1    -3.9162       0\n,
       1           2    -3.6975       1\n,
       2           3    -3.4788       1\n,
       3           4    -3.2600       1\n,
       4           5    -3.0413       1\n,
       ...       ...        ...     ...\n,
       8187     8188  1786.7102       0\n,
       8188     8189  1786.9289       0\n,
       8189     8190  1787.1476       0\n,
       8190     8191  1787.3663       0\n,
       8191     8192  1787.5851       0\n,
       \n,
       [8192 rows x 3 columns]
      ]
     },
     execution_count: 29,
     metadata: {},
     output_type: execute_result
    }
   ],
   source: [
    data
   ]
  },
  {
   cell_type: code,
   execution_count: 30,
   metadata: {},
   outputs: [
    {
     data: {
      text/plain: [
       0          1\n,
       1          2\n,
       2          3\n,
       3          4\n,
       4          5\n,
               ... \n,
       8187    8188\n,
       8188    8189\n,
       8189    8190\n,
       8190    8191\n,
       8191    8192\n,
       Name: Channel, Length: 8192, dtype: int64
      ]
     },
     execution_count: 30,
     metadata: {},
     output_type: execute_result
    }
   ],
   source: [
    data[\Channel\]
   ]
  },
  {
   cell_type: code,
   execution_count: 32,
   metadata: {},
   outputs: [
    {
     data: {
      text/plain: [
       [<matplotlib.lines.Line2D at 0x252cfce0640>]
      ]
     },
     execution_count: 32,
     metadata: {},
     output_type: execute_result
    },
    {
     data: {
      image/png: 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,
      text/plain: [
       <Figure size 432x288 with 1 Axes>
      ]
     },
     metadata: {
      needs_background: light
     },
     output_type: display_data
    }
   ],
   source: [
    plt.plot(data[\Energy\],data[\Counts\] )
   ]
  },
  {
   cell_type: code,
   execution_count: 37,
   metadata: {},
   outputs: [],
   source: [
    variancedata = data.iloc[500:520,:]
   ]
  },
  {
   cell_type: code,
   execution_count: 38,
   metadata: {},
   outputs: [
    {
     data: {
      text/html: [
       <div>\n,
       <style scoped>\n,
           .dataframe tbody tr th:only-of-type {\n,
               vertical-align: middle;\n,
           }\n,
       \n,
           .dataframe tbody tr th {\n,
               vertical-align: top;\n,
           }\n,
       \n,
           .dataframe thead th {\n,
               text-align: right;\n,
           }\n,
       </style>\n,
       <table border=\1\ class=\dataframe\>\n,
         <thead>\n,
           <tr style=\text-align: right;\>\n,
             <th></th>\n,
             <th>Channel</th>\n,
             <th>Energy</th>\n,
             <th>Counts</th>\n,
           </tr>\n,
         </thead>\n,
         <tbody>\n,
           <tr>\n,
             <th>500</th>\n,
             <td>501</td>\n,
             <td>105.4417</td>\n,
             <td>51</td>\n,
           </tr>\n,
           <tr>\n,
             <th>501</th>\n,
             <td>502</td>\n,
             <td>105.6604</td>\n,
             <td>49</td>\n,
           </tr>\n,
           <tr>\n,
             <th>502</th>\n,
             <td>503</td>\n,
             <td>105.8792</td>\n,
             <td>47</td>\n,
           </tr>\n,
           <tr>\n,
             <th>503</th>\n,
             <td>504</td>\n,
             <td>106.0979</td>\n,
             <td>52</td>\n,
           </tr>\n,
           <tr>\n,
             <th>504</th>\n,
             <td>505</td>\n,
             <td>106.3166</td>\n,
             <td>35</td>\n,
           </tr>\n,
           <tr>\n,
             <th>505</th>\n,
             <td>506</td>\n,
             <td>106.5353</td>\n,
             <td>53</td>\n,
           </tr>\n,
           <tr>\n,
             <th>506</th>\n,
             <td>507</td>\n,
             <td>106.7540</td>\n,
             <td>41</td>\n,
           </tr>\n,
           <tr>\n,
             <th>507</th>\n,
             <td>508</td>\n,
             <td>106.9727</td>\n,
             <td>42</td>\n,
           </tr>\n,
           <tr>\n,
             <th>508</th>\n,
             <td>509</td>\n,
             <td>107.1914</td>\n,
             <td>31</td>\n,
           </tr>\n,
           <tr>\n,
             <th>509</th>\n,
             <td>510</td>\n,
             <td>107.4102</td>\n,
             <td>63</td>\n,
           </tr>\n,
           <tr>\n,
             <th>510</th>\n,
             <td>511</td>\n,
             <td>107.6289</td>\n,
             <td>43</td>\n,
           </tr>\n,
           <tr>\n,
             <th>511</th>\n,
             <td>512</td>\n,
             <td>107.8476</td>\n,
             <td>46</td>\n,
           </tr>\n,
           <tr>\n,
             <th>512</th>\n,
             <td>513</td>\n,
             <td>108.0663</td>\n,
             <td>42</td>\n,
           </tr>\n,
           <tr>\n,
             <th>513</th>\n,
             <td>514</td>\n,
             <td>108.2850</td>\n,
             <td>41</td>\n,
           </tr>\n,
           <tr>\n,
             <th>514</th>\n,
             <td>515</td>\n,
             <td>108.5037</td>\n,
             <td>47</td>\n,
           </tr>\n,
           <tr>\n,
             <th>515</th>\n,
             <td>516</td>\n,
             <td>108.7225</td>\n,
             <td>44</td>\n,
           </tr>\n,
           <tr>\n,
             <th>516</th>\n,
             <td>517</td>\n,
             <td>108.9412</td>\n,
             <td>46</td>\n,
           </tr>\n,
           <tr>\n,
             <th>517</th>\n,
             <td>518</td>\n,
             <td>109.1599</td>\n,
             <td>49</td>\n,
           </tr>\n,
           <tr>\n,
             <th>518</th>\n,
             <td>519</td>\n,
             <td>109.3786</td>\n,
             <td>45</td>\n,
           </tr>\n,
           <tr>\n,
             <th>519</th>\n,
             <td>520</td>\n,
             <td>109.5973</td>\n,
             <td>48</td>\n,
           </tr>\n,
         </tbody>\n,
       </table>\n,
       </div>
      ],
      text/plain: [
            Channel    Energy  Counts\n,
       500      501  105.4417      51\n,
       501      502  105.6604      49\n,
       502      503  105.8792      47\n,
       503      504  106.0979      52\n,
       504      505  106.3166      35\n,
       505      506  106.5353      53\n,
       506      507  106.7540      41\n,
       507      508  106.9727      42\n,
       508      509  107.1914      31\n,
       509      510  107.4102      63\n,
       510      511  107.6289      43\n,
       511      512  107.8476      46\n,
       512      513  108.0663      42\n,
       513      514  108.2850      41\n,
       514      515  108.5037      47\n,
       515      516  108.7225      44\n,
       516      517  108.9412      46\n,
       517      518  109.1599      49\n,
       518      519  109.3786      45\n,
       519      520  109.5973      48
      ]
     },
     execution_count: 38,
     metadata: {},
     output_type: execute_result
    }
   ],
   source: [
    variancedata
   ]
  },
  {
   cell_type: code,
   execution_count: 39,
   metadata: {},
   outputs: [
    {
     data: {
      text/plain: [
       Channel    35.000000\n,
       Energy      1.674281\n,
       Counts     45.460526\n,
       dtype: float64
      ]
     },
     execution_count: 39,
     metadata: {},
     output_type: execute_result
    }
   ],
   source: [
    variancedata.var()
   ]
  },
  {
   cell_type: code,
   execution_count: null,
   metadata: {},
   outputs: [],
   source: []
  }
 ],
 metadata: {
  interpreter: {
   hash: f4722efe245817bfc3bb8a4fead8316a452afa2e58a94a6104a75f8476cbead1
  },
  kernelspec: {
   display_name: Python 3.9.7 ('base'),
   language: python,
   name: python3
  },
  language_info: {
   codemirror_mode: {
    name: ipython,
    version: 3
   },
   file_extension: .py,
   mimetype: text/x-python,
   name: python,
   nbconvert_exporter: python,
   pygments_lexer: ipython3,
   version: 3.9.7
  },
  orig_nbformat: 4
 },
 nbformat: 4,
 nbformat_minor: 2
}
